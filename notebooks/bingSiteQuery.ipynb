{
 "cells": [
  {
   "cell_type": "code",
   "execution_count": 62,
   "metadata": {},
   "outputs": [],
   "source": [
    "import requests\n",
    "import time\n",
    "import json"
   ]
  },
  {
   "cell_type": "code",
   "execution_count": 63,
   "metadata": {},
   "outputs": [],
   "source": [
    "BING_SEARCH_V7_SUBSCRIPTION_KEY=\"eecd7c6214214bb6bfbfbc9858a5d494\"\n",
    "BING_SEARCH_V7_ENDPOINT=\"https://api.bing.microsoft.com/v7.0/search\""
   ]
  },
  {
   "cell_type": "code",
   "execution_count": 64,
   "metadata": {},
   "outputs": [],
   "source": [
    "def bing_search(search_term, count=10, offset=0):\n",
    "    headers = {\"Ocp-Apim-Subscription-Key\": BING_SEARCH_V7_SUBSCRIPTION_KEY}\n",
    "    params = {\n",
    "        \"q\": search_term, \n",
    "        \"count\": count,\n",
    "        \"offset\": offset,\n",
    "        # \"mkt\": \"en-US\",\n",
    "        \"safeSearch\": \"Off\",\n",
    "        \"textDecorations\": True, \n",
    "        \"textFormat\": \"HTML\"\n",
    "    }\n",
    "    response = requests.get(BING_SEARCH_V7_ENDPOINT, headers=headers, params=params)\n",
    "    response.raise_for_status()\n",
    "    search_results = response.json()\n",
    "    return search_results['webPages']['value']"
   ]
  },
  {
   "cell_type": "code",
   "execution_count": 69,
   "metadata": {},
   "outputs": [
    {
     "name": "stdout",
     "output_type": "stream",
     "text": [
      "1510\n"
     ]
    }
   ],
   "source": [
    "search_results = {}\n",
    "\n",
    "count = 100\n",
    "offset = 0\n",
    "for i in range(150):\n",
    "    try:\n",
    "        search_result = bing_search(\"site:chatgpt.com/share\", count=count, offset=offset)\n",
    "    except Exception as e:\n",
    "        time.sleep(3)\n",
    "    for result in search_result:    \n",
    "        search_results[result['url']] = result\n",
    "    offset += len(search_result)\n",
    "\n",
    "print(len(search_results))"
   ]
  },
  {
   "cell_type": "code",
   "execution_count": 66,
   "metadata": {},
   "outputs": [],
   "source": [
    "with open(\"bing_search_results/chatgpt_share_urls.json\", \"r\") as f:\n",
    "    chatgpt_urls = json.load(f)"
   ]
  },
  {
   "cell_type": "code",
   "execution_count": 68,
   "metadata": {},
   "outputs": [],
   "source": [
    "with open(\"bing_search_results/chatgpt_share_urls2.json\", \"w\") as f:\n",
    "    json.dump(search_results, f, indent=4)"
   ]
  },
  {
   "cell_type": "code",
   "execution_count": 70,
   "metadata": {},
   "outputs": [],
   "source": [
    "with open(\"bing_search_results/chatgpt_share_urls3.json\", \"w\") as f:\n",
    "    json.dump(search_results, f, indent=4)"
   ]
  },
  {
   "cell_type": "code",
   "execution_count": null,
   "metadata": {},
   "outputs": [],
   "source": [
    "with open(\"bing_search_results/gemini_share_urls.json\", \"r\") as f:\n",
    "    gemini_urls = json.load(f)"
   ]
  }
 ],
 "metadata": {
  "kernelspec": {
   "display_name": "base",
   "language": "python",
   "name": "python3"
  },
  "language_info": {
   "codemirror_mode": {
    "name": "ipython",
    "version": 3
   },
   "file_extension": ".py",
   "mimetype": "text/x-python",
   "name": "python",
   "nbconvert_exporter": "python",
   "pygments_lexer": "ipython3",
   "version": "3.12.4"
  }
 },
 "nbformat": 4,
 "nbformat_minor": 2
}
