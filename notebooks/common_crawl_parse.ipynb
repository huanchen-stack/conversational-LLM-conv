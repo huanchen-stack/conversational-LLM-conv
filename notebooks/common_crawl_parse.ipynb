{
 "cells": [
  {
   "cell_type": "code",
   "execution_count": 2,
   "metadata": {},
   "outputs": [
    {
     "name": "stdout",
     "output_type": "stream",
     "text": [
      "Collecting warcio\n",
      "  Downloading warcio-1.7.5-py2.py3-none-any.whl.metadata (16 kB)\n",
      "Requirement already satisfied: six in /home/huanchen/anaconda3/lib/python3.12/site-packages (from warcio) (1.16.0)\n",
      "Downloading warcio-1.7.5-py2.py3-none-any.whl (40 kB)\n",
      "\u001b[2K   \u001b[90m━━━━━━━━━━━━━━━━━━━━━━━━━━━━━━━━━━━━━━━━\u001b[0m \u001b[32m40.6/40.6 kB\u001b[0m \u001b[31m9.4 MB/s\u001b[0m eta \u001b[36m0:00:00\u001b[0m\n",
      "\u001b[?25hInstalling collected packages: warcio\n",
      "Successfully installed warcio-1.7.5\n",
      "Note: you may need to restart the kernel to use updated packages.\n"
     ]
    }
   ],
   "source": [
    "%pip install warcio"
   ]
  },
  {
   "cell_type": "code",
   "execution_count": 46,
   "metadata": {},
   "outputs": [],
   "source": [
    "from warcio.archiveiterator import ArchiveIterator\n",
    "import json\n",
    "import re\n",
    "import gzip"
   ]
  },
  {
   "cell_type": "code",
   "execution_count": null,
   "metadata": {},
   "outputs": [],
   "source": []
  },
  {
   "cell_type": "code",
   "execution_count": 51,
   "metadata": {},
   "outputs": [
    {
     "data": {
      "text/plain": [
       "[]"
      ]
     },
     "execution_count": 51,
     "metadata": {},
     "output_type": "execute_result"
    }
   ],
   "source": [
    "warc_file = \"../common_crawl/CC-MAIN-20241201162023-20241201192023-00000.warc.gz\"\n",
    "\n",
    "def extract_links_from_warc(warc_file):\n",
    "    output = []\n",
    "    with gzip.open(warc_file, 'rb') as f:\n",
    "        for record in ArchiveIterator(f):\n",
    "            if record.rec_type == 'response' and record.http_headers:\n",
    "                url = record.rec_headers.get_header('WARC-Target-URI')\n",
    "                html = record.content_stream().read().decode('utf-8', errors='ignore')\n",
    "                \n",
    "                url_pattern = re.compile(r'https://www.chatgpt.com[^\\s)\\]\\}\\>,]+')\n",
    "                # url_pattern = re.compile(r'https://www.[^\\s)\\]\\}\\>,]+')\n",
    "                links = re.findall(url_pattern, html)\n",
    "\n",
    "                if links:\n",
    "                    output.append({\n",
    "                        'url': url,\n",
    "                        'links': links\n",
    "                    })\n",
    "    return output\n",
    "\n",
    "extract_links_from_warc(warc_file)"
   ]
  },
  {
   "cell_type": "code",
   "execution_count": null,
   "metadata": {},
   "outputs": [],
   "source": []
  }
 ],
 "metadata": {
  "kernelspec": {
   "display_name": "base",
   "language": "python",
   "name": "python3"
  },
  "language_info": {
   "codemirror_mode": {
    "name": "ipython",
    "version": 3
   },
   "file_extension": ".py",
   "mimetype": "text/x-python",
   "name": "python",
   "nbconvert_exporter": "python",
   "pygments_lexer": "ipython3",
   "version": "3.12.4"
  }
 },
 "nbformat": 4,
 "nbformat_minor": 2
}
