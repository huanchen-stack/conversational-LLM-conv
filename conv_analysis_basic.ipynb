{
 "cells": [
  {
   "cell_type": "markdown",
   "metadata": {},
   "source": [
    "**Basic Analysis**\n",
    "* Number of user queries\n",
    "* Number of total characters (unicode?)\n",
    "    * Number of *human languages* among all conversations\n",
    "* Number of *Tools*\n",
    "    * Number of Multimedia\n",
    "        * from: users/assistants\n",
    "        * type: image/file/\\<code\\>\n",
    "* Size of HTML"
   ]
  },
  {
   "cell_type": "markdown",
   "metadata": {},
   "source": [
    "**IDEA**\n",
    "* If the conversation is to query some concept, or the goal is to solve some practical problems. Use the conversation queries to make google/bing search: paraphrase the query to see if there is an \"ideal query\"? (SIGIR survey: improve with today's SE unchanged!)\n",
    "* How many Searches are done per query? What are the queries? Did LLMs perform search with semantic understanding?"
   ]
  },
  {
   "cell_type": "markdown",
   "metadata": {},
   "source": [
    "**More conversational LLMs?** Chatgpt is known to spit too much text.\n",
    "\n",
    "**Other Implications**\n",
    "\n",
    "Other things to measure? People switching between models? I don't know what this means in the underlying system...\n",
    "\n",
    "This is by nature dataset of LLM generated language in a conversation..."
   ]
  },
  {
   "cell_type": "code",
   "execution_count": 1,
   "metadata": {},
   "outputs": [],
   "source": [
    "import os\n",
    "import json"
   ]
  },
  {
   "cell_type": "code",
   "execution_count": 2,
   "metadata": {},
   "outputs": [],
   "source": [
    "conversation_fnames = os.listdir('conversations')\n",
    "conversation_fnames = [fname for fname in conversation_fnames if '.json' in fname]"
   ]
  },
  {
   "cell_type": "code",
   "execution_count": 13,
   "metadata": {},
   "outputs": [
    {
     "data": {
      "text/plain": [
       "{'title': 'Carlos Nogueira Art Overview',\n",
       " 'conversation': [{'role': 'system', 'message': [''], 'text': ''},\n",
       "  {'role': 'user',\n",
       "   'message': ['Original custom instructions no longer available'],\n",
       "   'text': ''},\n",
       "  {'role': 'user', 'message': ['Who is Carlos Nogueira?'], 'text': ''},\n",
       "  {'role': 'assistant', 'message': [], 'text': ''},\n",
       "  {'role': 'assistant', 'message': [], 'text': 'search(\"Carlos Nogueira\")'},\n",
       "  {'role': 'tool', 'message': [], 'text': ''},\n",
       "  {'role': 'assistant', 'message': [], 'text': 'mclick([0, 2, 3, 4])'},\n",
       "  {'role': 'tool',\n",
       "   'message': [],\n",
       "   'text': '\\n— Alcoutim, linha de luz (projeto de instalação de luz para uma proposta de arquitetura de José Adrião | project for a light installation for an architectural proposal of José Adrião)\\n\\n2003  \\n— Lisboa | Lisbon, Galeria Promontório Arquitetos, desenhos de casas, 18 de setembro – 3 de novembro | September 18th – November 3rd\\n\\n— Lisboa | Lisbon, Galeria Luís Serpa Projetos, construção para lugar nenhum, 20 de setembro – 1 de novembro | September 20th – November 1st\\n\\n2002  \\n— Lisboa | Lisbon, Pahldata, paisagem(s) de (man)dar . fragmento, 10 de janeiro – 8 de fevereiro | January 10th – February 8th\\n\\n— Sintra, Sintra Museu de Arte Moderna / Coleção Berardo, nem sombra nem vento, 5 de maio – 7 de julho | May 5th – July 7th\\n\\n— Lisboa | Lisbon, Centro Cultural de Belém, a parar a luz, 18 de julho | July 18th\\n\\n— Sines, Centro Cultural Emmerico Nunes, Capela de Sines, longe e brilha, 4 – 31 de agosto | August 4th – 31th\\n\\n— Lisboa | Lisbon, Centro de Arte Moderna José de Azeredo Perdigão – Fundação Calouste Gulbenkian, a ver, 3 de outubro 2002 – 5 de janeiro de 2003 | October 3rd 2002 – January 5th 2003\\n\\n2000  \\n— Caldas da Rainha, Galeria 30 Dias, objetos com luz própria [obras expostas | works on display: o céu I-VI; da sucessão dos dias e das noites; os dias cinzentos (diapositivos | slides); olhou para ele durante muito tempo / continuou então a desenhar]\\n\\n— Lisboa | Lisbon, Museu da Cidade, Pavilhão Branco, a noite e branco, setembro – 31 de dezembro | September – December 31st\\n\\n1999  \\n— Brighton, Brighton University, beyond the very edge of the earth\\n\\n1998  \\n— Londres | London, The Economist Plaza, beyond the very edge of the earth, 22 de abril – 31 de maio | April 22nd – May 31st\\n\\n— Lisboa | Lisbon, Fundação Calouste Gulbenkian, construção com chão branco a partir de dentro (no âmbito da exposição «Luís Cristino da Silva» | in the context of the exhibition \"Luís Cristino da Silva\")\\n\\n1997  \\n— Porto, Galeria Canvas & Companhia, olhou para ele durante muito tempo; continuou então a desenhar, janeiro – 4 de fevereiro | January – February 4th\\n\\n— Brasília / Brasilia, Centro Cultural Português / Instituto Camões, o mar, o céu e outros labirintos\\n\\n— Rio de Janeiro, Museu Nacional de Belas-Artes, o mar, a mar e outros labirintos\\n\\n1996  \\n— Lisboa | Lisbon, Centro Cultural de Belém, o mar, a pedra e outros labirintos, 19 de junho – 18 de agosto | June 19th – August 18th\\n\\n— Lisboa | Lisbon, Livraria Assírio & Alvim, as portas do rio te estão abertas, outubro – novembro | October – November\\n\\n1994  \\n— Lisboa | Lisbon, Museu Nacional de História Natural, Sala do Veado, chão de cal, 13 – 29 de janeiro | January 13th – 29th\\n\\n— Porto, Teatro Nacional de São João, até ao fim das terras todas, 14 de outubro | October 14th (integrado no espetáculo Finis Terra da Companhia Olga Roriz | integrated in the play Finis Terra by the Companhia Olga Roriz)\\n\\n1993  \\n— Lisboa | Lisbon, Avenida Gulbenkian, uma floresta como um rio\\n\\n— Évora, Galeria Évora-Arte, permanência da água\\n\\n1992  \\n— Évora, Museu Nacional de Évora, entre duas águas, 10 de julho – 25 de setembro | July 10th – September 25th\\n\\n1989  \\n— Lisboa | Lisbon, Galeria Diferença, desenho (obras expostas | works on display: estudos de riscados para camisas sem bolsos; pintura / I-II; desenho I-IV)\\n\\n1987  \\n— Porto, Cooperativa Árvore, das nascentes, 13 – 25 de fevereiro | February 13th – 25th (obras expostas | works on display: ainda um dia te pinto um peixe / dou-te; desde a montanha junto / até todos os lugares; a noite e branco / acabava no mar)\\n\\n1986  \\n— Lisboa | Lisbon, Galeria Diferença, paisagens das terras do monte e da pele, 21 de janeiro – 16 de fevereiro | January 21st – February 16th (obras expostas | works on display: as portas dos rios te estão abertas; o livro do céu diurno; o livro do céu noturno; o livro do mar diurno; o livro do mar noturno; o livro de viagem; as nuvens são como as nuvens do céu, até ao fim das terras todas)\\n\\n1984  \\n— Lisboa | Lisbon, Praça do Saldanha, ação no âmbito da intervenção pública contra a demolição do Cinema Monumental | action in the context of a public intervention against the demolition of Cinema Monumental, 25 de fevereiro | February 25th\\n\\n1983  \\n— Coimbra, Círculo de Artes Plásticas, 7 ensaios sobre um céu de pintar e outro de brincar, 5 de fevereiro – 5 de março | February 5th – March 5th\\n\\n— Lisboa | Lisbon, Sociedade Nacional de Belas-Artes, do céu / o sal (instalação e ação | installation and action)\\n\\n— Lisboa | Lisbon, Sociedade Nacional de Belas-Artes, paisagem(s) de (man)dar, 6 de dezembro | December 6th\\n\\n— Portugal, ação por correio | mail action, boa viagem / e escreve\\n\\n1981  \\n— Lisboa | Lisbon, Centro Nacional de Cultura, conjunto de mesa'},\n",
       "  {'role': 'tool',\n",
       "   'message': [],\n",
       "   'text': '\\nURL: https://carlosnogueira.com/en/texts/texts-on-carlos-nogueira/150-carlos-nogueira-3.html\\n【0† 】 \\n\\n  * Biography \\n\\n    * 【1†Introduction】\\n    * 【2†Solo Exhibitions】\\n    * 【3†Collective Exhibitions】\\n    * 【4†Other Projects】\\n\\n  * 【5†Works】\\n  * Texts \\n\\n    * 【6†Texts By Carlos Nogueira】\\n    * 【7†Texts On Carlos Nogueira】\\n\\n  * Bibliography \\n\\n    * 【8†Monographies And Group Catalogs】\\n    * 【9†Collective Exhibitions Catalogs】\\n    * 【10†Solo Exhibitions Catalogs】\\n    * 【11†Texts | Press】\\n    * 【12†Research Works】\\n\\n  * 【13†Contacts】\\n\\n【0† 】\\n\\n* * *\\n\\n  * Texts\\n  * 【7†Texts On Carlos Nogueira】\\n  * Carlos nogueira\\n\\n#  Carlos nogueira \\n\\nThe work of Carlos Nogueira (Mozambique 1947), touching on a wide range of genres and addressing problems such as space, material and light, conveys a search for a place where sensitivity and intelligibility, silence and complicity, the ephemeral and permanent all come together.\\n\\nHis work, which came to light in the mid 70s, flows in constant renewal and his creative world has been broadened through a variety of artistic genres such as design, performance, installation, painting and sculpture. Throughout his activity, never once does he confine himself to a single genre, but rather positions himself at the intersection of several, thus, breaking down the respective barriers, exploring reciprocal influences, constructing and broadening his own artistic territory.  \\nThrough a variety of resources in his production of ephemeral pieces or situations and durable objects, the problems he confronts are, in fact, always the same; related, primarily, to light, colour, line, materials, surface and time. Ultimately, they are problems of a pictorial nature which set painting as the basis of their art.  \\nThere is always a purpose behind his interventions to establish art as a sacred place, not, however, by means of exclusion or disqualification, but rather through the transfiguration and sublimity of that which belongs to the common or daily sphere – materials, experiences, memories. The physical paths through space, both blatant and implicit, indicate the urge to reinvent it, to make of it a lived in space. Light, the expressive and vivifying element of materials and definer of space, also acts as a metaphor of the excellence and revelation to which the artist permanently aspires. As an alchemist, he seeks to bestow an unknown splendour upon his materials.  \\nIf nature – the sea, sky, mountains, river - emerges as an obsessive reference, this is, above all, connected to the importance Carlos Nogueira attributes to sensitivity, appearances, the ephemeral. Nevertheless, nature emerges in his work as an archetype of original time and place, the image of a return to origins, nostalgia of eternal purity and harmony. Hence, his works appear both as a tribute to the ephemeral and to change, while also as an exaltation of an essential order and that which is left. In both, the central issue is the connection between the visible and invisible, between appearances, what is beyond them, between the ephemerality of what passes and the eternity of what stays. Here is where the ideal of re-conquering harmony with the cosmos lies.\\n\\nTranslation by Tania Gregg   \\nIn Arte Portuguesa do Século XX, Lisboa, IAC / Neurónio, 1998.\\n\\n  * Biography \\n    * 【1†Introduction】\\n    * 【2†Solo Exhibitions】\\n    * 【3†Collective Exhibitions】\\n    * 【4†Other Projects】\\n  * 【5†Works】\\n  * Texts \\n    * 【6†Texts By Carlos Nogueira】\\n    * 【7†Texts On Carlos Nogueira】\\n  * Bibliography \\n    * 【8†Monographies And Group Catalogs】\\n    * 【9†Collective Exhibitions Catalogs】\\n    * 【10†Solo Exhibitions Catalogs】\\n    * 【11†Texts | Press】\\n    * 【12†Research Works】\\n  * 【13†Contacts】\\nVisible: 0% - 100%'},\n",
       "  {'role': 'tool',\n",
       "   'message': [],\n",
       "   'text': '  * 【31†Ver histórico】\\n\\nGeral \\n\\n  * 【32†Páginas afluentes】\\n  * 【33†Alterações relacionadas】\\n  * 【34†Carregar ficheiro】\\n  * 【35†Páginas especiais】\\n  * 【36†Hiperligação permanente】\\n  * 【37†Informações da página】\\n  * 【38†Citar esta página】\\n  * 【39†Obter URL encurtado】\\n  * 【40†Descarregar código QR】\\n\\nImprimir/exportar \\n\\n  * 【41†Criar um livro】\\n  * 【42†Descarregar como PDF】\\n  * 【43†Versão para impressão】\\n\\nNoutros projetos \\n\\n  * 【44†Wikimedia Commons†commons.wikimedia.org】\\n  * 【45†Elemento Wikidata†www.wikidata.org】\\n\\nAspeto\\n\\nmover para a barra lateral ocultar\\n\\nOrigem: Wikipédia, a enciclopédia livre.\\n\\n[Image 0]\\xa0Nota: Este artigo é sobre o artista português. Para o político brasileiro, veja 【46†Carlos Nogueira (político)】.\\n\\nCarlos Nogueira  \\n\\n[Image 1]Carlos Nogueira  \\n\\nNascimento  【47†1947】  \\n【48†Moçambique】   \\nNacionalidade  [Image 2: Portugal] 【49†portuguesa】   \\nÁrea  Artes Plásticas   \\n[Image 3]Casa quadrada com árvore dentro, 2012, betão branco, 300 cm; Parque de escultura contemporânea, Vila Nova da Barquinha\\n\\nCarlos Nogueira (n. 【48†Moçambique】, 1947) é um 【50†artista plástico】 / 【51†escultor】 【52†português】.[ 1 ]\\n\\n## Biografia / Obra\\n\\n[【53†editar】 | 【54†editar código-fonte】]\\n\\n[Image 4]Exposição temporária no 【55†Museu da Eletricidade】, em Lisboa, setembro de 2012\\n\\nEstudou na 【56†Escola Superior de Belas Artes do Porto】 (escultura) e diplomou-se na 【57†Escola Superior de Belas Artes de Lisboa】 (pintura). Desde o início a sua obra referência-se a um território multidisciplinar onde cabem não apenas a pintura e escultura mas também as ações performativas e manifestações em que o espectador é chamado a intervir. Marcados pela sensibilidade poética, os seus trabalhos escultóricos articulam temas procurados no mundo natural como a floresta, o rio, a água, o céu, o mar, \"estabelecendo como base da sua prática artística a expressão de uma relação simbólica com o mundo. [...] Emblemático do seu trabalho é também o uso de materiais do quotidiano e industriais – o ferro, o aço, o mosaico hidráulico, o vidro –, aos quais confere poder de evocação poética e uma existência que, de lugar para lugar, remete simultaneamente a sua obra para o sentimento de corporalidade e imaterialidade, de peso e leveza, do íntimo e do infinito\".[ 2 ]\\n\\nAs suas obras fazem parte do acervo de museus como do 【58†Centro de Arte Moderna】 (CAM) da 【59†Fundação Calouste Gulbenkian】,[ 3 ] do 【60†Museu Colecção Berardo】,[ 4 ] do 【61†Museu de Arte Contemporânea (Fundação de Serralves)】[ 5 ] e outros. \\n\\nEnsontra-se colaboração da sua autoria na revista 【62†Arte Opinião】 [ 6 ] (1978-1982). \\n\\n## Algumas obras\\n\\n[【63†editar】 | 【64†editar código-fonte】]\\n\\n[Image 5]Mais longe e límpido ao longo [Image 6]Mais longe e límpido ao longo\\n\\n  * Desenho II (1981)[ 5 ]\\n  * Pintura I (1981)[ 5 ]\\n  * Pintura II (1981)[ 5 ]\\n  * A noite e Branco[ 5 ]\\n  * Mais longe e límpido ao longo (1997 - 2000)[ 5 ]: Como uma imensa coluna de ar, aço inox, vidro, mosaico hidráulico, 4515×1506×1434\\xa0mm³\\n  * Desenho I (1981)[ 5 ]\\n  * Desenho III (1981)[ 5 ]\\n  * Desenho IV (1981)[ 5 ]\\n  * Construção elíptica com 【65†Ueli Krauss】 (【66†Berna】)[ 1 ]\\n  * mural no 【67†Centro Nuno Belmar da Costa】 (【68†Oeiras】)[ 1 ]\\n  * Nem sombra nem vento[ 7 ]\\n\\n[Image 7]\\n\\nO 【69†Commons†commons.wikimedia.org】 possui uma categoria com imagens e outros ficheiros sobre 【70†Carlos Nogueira†commons.wikimedia.org】\\n\\n## Ligações externas\\n\\n[【71†editar】 | 【72†editar código-fonte】]\\n\\n  * 【73†«Sítio oficial»†www.carlosnogueira.com】 (em inglês)\\xa0\\n  * 【74†«Carlos Nogueira - Facebook Oficial»†www.facebook.com】 (em inglês)\\xa0\\n\\n## Referências\\n\\n  1. ↑ a b c 【75†«Carlos Nogueira desenhos, construções e outros acidentes»†www.fundacaocarmona.org.pt】. Consultado em 9 de Dezembro de 2011\\xa0\\n  2. ↑ Jürgens, Sandra Vieira – Carlos Nogueira. In: Centro de Arte Moderna José de Azeredo Perdigão: Roteiro da coleção. Lisboa: Fundação Calouste Gulbenkian, 2004, p. 172. 【76†ISBN 972-635-155-3】\\n  3. ↑ 【77†«Carlos Nogueira»†www.cam.gulbenkian.pt】. Consultado em 9 de Dezembro de 2011\\xa0\\n  4. ↑ 【78†«Carlos Nogueira ( 1947 - )»†mirror.berardocollection.com】 (em inglês). Consultado em 9 de Dezembro de 2011\\xa0\\n  5. ↑ a b c d e f g h i 【79†«Carlos Nogueira»†emuseum.serralves'},\n",
       "  {'role': 'assistant',\n",
       "   'message': [\"Carlos Nogueira is a Portuguese visual artist born in 1947 in Mozambique. His work spans multiple disciplines, including sculpture, painting, installation, and performance art. He is particularly known for his exploration of space, light, materials, and the relationships between the ephemeral and the permanent. His creative output, which began to gain attention in the 1970s, reflects an interplay between sensitivity and intelligibility, often breaking down the boundaries between artistic genres. Nogueira’s art consistently focuses on the symbolic relationship between materials and nature, aiming to evoke a poetic sense of both intimacy and infinity.\\n\\nHis artistic practice is characterized by a strong connection with natural elements, such as the sea, sky, and landscapes, often using common or industrial materials like iron, steel, and glass to evoke symbolic and poetic meanings. He aims to transfigure everyday elements, thereby transforming them into something sublime and establishing art as a sacred space. His use of light is a recurring theme, serving as both a literal and metaphorical element that brings vitality to his pieces and redefines space.\\n\\nCarlos Nogueira's works are part of several notable collections, including the Modern Art Center of the Calouste Gulbenkian Foundation, the Berardo Collection Museum, and the Museum of Contemporary Art of the Serralves Foundation. His exhibitions have included notable venues in Lisbon, London, and beyond, highlighting his continued influence on both national and international art scenes.\\n\\nFor more information about Carlos Nogueira's work and exhibitions, you can visit his official website: [Carlos Nogueira Official Site](https://carlosnogueira.com)【7†source】【8†source】【9†source】.\\n\\nWould you like to explore more about his specific exhibitions or the themes he addresses in his work?\"],\n",
       "   'text': ''},\n",
       "  {'role': 'user',\n",
       "   'message': [\"This is not the Carlos Nogueira I'm looking for. He has been working in artificial intelligence, developing solutions for customers like Serasa\"],\n",
       "   'text': ''},\n",
       "  {'role': 'assistant',\n",
       "   'message': [],\n",
       "   'text': 'search(\"Carlos Nogueira artificial intelligence Serasa\")'},\n",
       "  {'role': 'tool', 'message': [], 'text': ''},\n",
       "  {'role': 'assistant', 'message': [], 'text': 'mclick([0, 2, 3])'},\n",
       "  {'role': 'tool',\n",
       "   'message': [],\n",
       "   'text': '\\n  * Conteúdos \\n\\n    * 【26† Todos os conteúdos Encontre todas as nossas publicações aqui 】 \\n    * 【27† Cases Confira como as empresas estão usufruindo das soluções e serviços da Serasa Experian 】 \\n    * 【28† Carreiras Dicas para alavancar a sua carreira profissional 】 \\n    * 【29† Estudos e pesquisas Materiais exclusivos sobre todo o mercado 】 \\n    * 【30† Indicadores Econômicos Confira os indicadores da Serasa Experian com base nas análises feitas por nossos especialistas 】 \\n    * 【31† PME Conteúdos exclusivos para ajudar pequenas e médias empresas a prosperarem 】 \\n    * 【32† Podcast Conversas com quem sabe o que os dados estão falando 】 \\n    * 【33† Sustentabilidade Corporativa Temos um compromisso com o mundo e a sociedade 】 \\n    * 【34† Curso Gratuito de Saúde Financeira Uma iniciativa da Serasa Experian para apoiar no desenvolvimento do seu negócio 】 \\n\\n  * 【18† Sala de Imprensa 】 \\n\\n[Image 1: Sites Globais] \\n\\n  * 【4† Sites Globais 】 \\n\\nAbrir modal de pesquisa\\n\\n【35† Acessar †empresas.serasaexperian.com.br】 \\n\\nBusque por conteúdos ou soluções Serasa Experian.  Assuntos mais procurados:\\n\\n  * 【36† Central de Ajuda †ajuda.serasaexperian.com.br】 \\n  * 【6† Antifraude 】 \\n  * 【37† Serasa Score 】 \\n  * 【38† Rating como consultar 】 \\n  * 【39† Consultar CNPJ †empresas.serasaexperian.com.br】 \\n\\nAcessibilidade ×\\n\\n  * Alto contraste\\n  * A+ Aumentar texto\\n  * A- Diminuir texto\\n\\n【40† Home 】 / 【41† Sala de Imprensa 】 / Serasa Experian explora o poder dos dados na era da inteligência artificial durante Gartner Data & Analytics 2019\\n\\n# Serasa Experian explora o poder dos dados na era da inteligência artificial durante Gartner Data & Analytics 2019\\n\\n18/06/2019 | 2 min de leitura \\n\\nEm palestra, executivos da empresa demonstram como o uso de machine learning e outras ferramentas podem extrair mais valor dos dados gerados por clientes\\n\\nSão Paulo, 28 de maio de 2017 – A Serasa Experian, uma das empresas mais inovadoras do mundo de acordo com ranking da Forbes, discute como extrair mais valor dos dados na era da inteligência artificial durante o Gartner Data & Analytics 2019. O evento acontece em 29 e 30 de maio, em São Paulo.\\n\\nNessa quinta-feira (30), a palestra Transformando o poder dos dados em oportunidades de negócios será conduzida por Julio Guedes, diretor de Decision Analytics, e Renato Vicente, diretor do DataLab, laboratório de inovação da Serasa Experian no Brasil. Na ocasião, serão apresentadas maneiras de entender melhor o mercado e, assim, conseguir entregar resultados ainda mais customizados e individualizados aos clientes.\\n\\nEles ainda mostram ferramentas utilizadas para extrair mais valor das informações disponibilizadas pelos clientes, e que se adequam à necessidade do consumidor, como o Machine Learning. “O mundo cada vez mais conectado transforma a maneira como as pessoas consomem e geram dados, estruturados ou não, o que causa certa pressão nas organizações para que se mantenham atualizadas e apresentem soluções mais inovadoras”, comenta Guedes.\\n\\nPara exemplificar o trabalho feito na Serasa Experian, a dupla também apresenta projetos e iniciativas disruptivas do DataLab, um dos quatro centros de inovação da Experian no mundo, junto com Londres, no Reino Unido, San Diego, nos Estados Unidos e Singapura, na Ásia. O ambiente foi inaugurado em 2015 no Brasil com o objetivo de oferecer soluções inovadoras com foco em análise do uso de novas fontes de dados, combinando algoritmos de inteligência artificial e aplicação de técnicas modernas ou tradicionais. Veja tour virtual do DataLab http://www.overreal.com.br/SerasaVR-Lite/\\n\\nSobre a Conferência Gartner Data & Analytics  \\nA Conferência Gartner Data & Analytics fornece conhecimentos práticos em data, liderança e cases de criação de negócios de gestão da data e análise. A conferência reúne informações sobre como data e análise estão sendo aplicados para tornar os modelos de negócios mais transparentes, decisivos e personalizados. Mais informações sobre o evento podem ser encontradas no site: http://www.gartner.com/events/pt/la/data-analytics.\\n\\nAssessoria   \\nde imprensa\\n\\n+55 11 97556 5011\\xa0 \\xa0\\xa0  \\nserasaexperian@edelman.com\\n\\nPress releases relacionados\\n\\nPress releases relacionados\\n\\n## \\n\\nPress releases relacionados\\n\\n14/10/2024 | 6 min de leitura  Análise de Dados  【42† Empresas inadimplentes: Dívidas vencidas em maio tiveram a menor taxa de pagamentos em até 60 dias, revela Serasa Experian 】 \\n\\n* * *\\n\\nCom 36,3% de contas atrasadas quitadas, o período teve o menor índice dos últim...\\n\\n09/10/2024 | 4 min de leitura  Análise de Dados  【43† 3 em cada 10 empresas no Brasil estavam inadimplentes em agosto, indica Serasa Experian 】 \\n\\n* * *\\n\\nTotal de companhias com dívidas atrasadas no período foi de 6,9 milhões; n&uacu...\\n\\n07/10/2024 | 5 min de leitura  Análise de Dados  【44† No primeiro semestre, 712 empresas foram criadas por hora, aponta Serasa Experian 】 \\n\\n* * *\\n\\n“Serviços de Alimentação” liderou com a aberturas de 147.133 neg&oa...\\n\\nNavegue pelas categorias\\n\\n##  Navegue pelas categorias\\n\\nAgronegócios\\n\\nAnálise de Dados\\n\\nAutenticação e Prevenção a Fraude\\n\\nCadastro Positivo\\n\\nCertificado Digital\\n\\nEstudos e Pesquisas\\n\\nFintechs\\n\\nNotícias\\n\\nPMEs\\n\\nResponsabilidade Corporativa\\n\\nRH\\n\\nSerasa Consumidor\\n\\nSerasa Empreendedor\\n\\nServiços de Crédito\\n\\nServiços de Marketing\\n\\n【1† 】 \\n\\n  * 【45† †www.facebook.com】 \\n  * 【46† †www.instagram.com】 \\n  * 【47† †www.youtube.com】 \\n  * 【48† †www.linkedin.com】 \\n\\n【49† †www.serasa.com.br】 \\n\\n### Soluções\\n\\n###   Soluções \\n\\n  * 【5† Análise de mercado e segmentação de público 】 \\n  * 【6† Autenticação e Prevenção à Fraude 】 \\n  * 【7† Consulta e concessão de crédito 】 \\n  * 【9† Cobrança e Recuperação de Dívidas 】 \\n  * 【8† Gestão de cliente e de portfólio 】 \\n  * 【10† Plataformas e Motores de decisão 】 \\n  * 【15† Confirmação e Enriquecimento de dados 】 \\n  * 【50† Open Banking 】 \\n  * 【16† Soluções mais vendidas 】 \\n\\n### Indústrias\\n\\n###   Indústrias \\n\\n  * 【11† Agronegócio 】 \\n  * 【12† Fintechs 】 \\n  * 【51† PME 】 \\n\\n### Conteúdos\\n\\n###   Conteúdos \\n\\n  * 【26† Ver todo o conteúdo 】 \\n  * 【52† Agronegócio 】 \\n  * 【53† Autenticação e Prevenção à Fraude 】 \\n  * 【54† Cadastro Positivo 】 \\n  * 【27† Cases 】 \\n  * 【28† Carreiras 】 \\n  * 【55† Crédito 】 \\n  * 【56† Cobrança 】 \\n  * 【57† Decisão 】 \\n  * 【29† Estudos e Pesquisas 】 \\n  * 【58† Gestão de Carteira de Crédito 】 \\n  * 【59† Inovação e Tecnologia 】 \\n  * 【60† Marketing 】 \\n  * 【61† Open Finance 】 \\n  * 【62† PME 】 \\n  * 【32† Podcast 】 \\n  * 【63† Proteção de Dados 】 \\n  * 【33† Sus'},\n",
       "  {'role': 'tool',\n",
       "   'message': [],\n",
       "   'text': '  * 【39† Consultar CNPJ †empresas.serasaexperian.com.br】 \\n\\nAcessibilidade ×\\n\\n  * Alto contraste\\n  * A+ Aumentar texto\\n  * A- Diminuir texto\\n\\n【40† Home 】 / 【26† Conteúdos 】 / Inteligência artificial nas empresas: transformando o poder dos dados em oportunidades de negócios\\n\\n[Image 2] \\n\\n# Inteligência artificial nas empresas: transformando o poder dos dados em oportunidades de negócios\\n\\n14/04/2020 | 3 min de leitura \\n\\nCom o mundo cada vez mais conectado, é visível a mudança de comportamento das pessoas com as marcas. Para atenderem a expectativa do consumidor cada vez mais alta, as empresas estão aumentando o investimento em inteligência artificial (IA) para oferecerem a seus clientes experiências mais personalizadas e sem atritos.\\n\\nHoje, a combinação de dados com tecnologia está sendo bastante utilizada para automatizar o negócio como um todo e não em alguns pontos isolados. Isso quer dizer que o investimento feito nas primeiras etapas do negócio como no estoque, por exemplo, causará um efeito dominó em todo o processo. Ou seja, será possível enxergar benefícios que vão desde a um aumento na agilidade do seu time, maior satisfação do seu cliente e vendas mais preditivas e personalizadas.\\n\\nPara que o uso da inteligência artificial possa trazer os resultados esperados, é preciso garantir a qualidade da sua base de dados. Trabalhar com informações confiáveis e de qualidade é fundamental para que você possa extrair insights relevantes para a sua tomada de decisão.\\n\\nComo o uso da inteligência artificial pode ajudar o seu negócio?\\n\\nEmpresas orientadas por dados entendem que a maneira como trabalham com a inteligência artificial e todos seus dobramentos – como Machine Learning e Deep Learning – a favor do seu negócio é o que pode se tornar seu diferencial competitivo. Confira a seguir algumas de suas principais aplicações:\\n\\n  1. Ações e campanhas de marketing \\n\\nPara criar comunicações mais personalizadas, as empresas estão utilizando a inteligência artificial para simplificar a jornada do seu cliente. Ou seja, há um trabalho mais estruturado de coletar insights e fazer análises mais aprofundadas sobre o seu perfil, comportamento e necessidades.\\n\\n  2. Prevenção à fraude \\n\\nO Machine Learning é bastante utilizado em soluções antifraude para detectar padrões de comportamento e transações suspeitas em diferentes etapas da jornada do cliente. Outro benefício é a visão 360° que o analista de fraude terá dos dados, o que facilitará na identificação de quais pontos do processo podem apresentar uma maior exposição ao risco.\\n\\n  3. Varejo \\n\\nAssim como foi explorado no artigo da Fabiana Amaral, nossa Gerente Sênior de Marketing Services, a inteligência artificial está levando o varejo a um outro patamar. A análise e definição do comportamento dos consumidores, sistemas de recomendação, precificação dinâmica e otimização dos estoques são alguns dos principais benefícios percebidos pelos varejistas com o uso dessa tecnologia.\\n\\nQuer saber mais como a Serasa Experian pode ajudar a sua empresa o a superar seus principais desafios de negócio? Acesse nosso site e confira algumas 【41†histórias de sucesso de nossos clientes】.\\n\\nConfira também\\n\\nConfira também\\n\\n## \\n\\nConfira também\\n\\n[Image 3] \\n\\n02/10/2024 | 3 min de leitura  【42† A visão do apostador sobre a segurança das bets; baixe o e-book! 】 \\n\\nNa reta final de adequação à Lei das Apostas, cujas regras passam a valer em ja...\\n\\n[Image 4] \\n\\n06/09/2024 | 11 min de leitura  【43† Prevenção à fraude em apostas online com a biometria facial 】 \\n\\nA Lei n.º 13.756, sancionada no final de 2018, legalizou as apostas esportivas de cota fixa, ta...\\n\\n[Image 5] \\n\\n06/09/2024 | 13 min de leitura  【44† Desafios e soluções para evitar a lavagem de dinheiro no mercado de apostas 】 \\n\\nA lavagem de dinheiro é uma prática prevista na Lei n.º 9.613 de 1998 e consiste...\\n\\n[Image 6] \\n\\n30/08/2024 | 5 min de leitura  【45† Novos mecanismos de segurança do Pix e o papel crucial dos dispositivos na prevenção à fraude 】 \\n\\nPublicadas em julho de 2024 pelo Banco Central, a Resolução 403/2024 \\xa0e a Instru&...\\n\\n[Image 7: Bets nova regulamentação e o desafio de validação de identidades às empresas] \\n\\n08/08/2024 | 7 min de leitura  【46† Bets: nova regulamentação e o desafio de validação de identidades às empresas 】 \\n\\nEm franca expansão no Brasil, o mercado de bets enfrenta uma série de desafios e oport...\\n\\n[Image 8] \\n\\n01/08/2024 | 9 min de leitura  【47† Entenda como o phishing e-mail pode afetar a reputação da sua marca e saiba como se proteger 】 \\n\\nA segurança cibernética tem se tornado uma preocupação cada vez maior pa...\\n\\nExplore as categorias\\n\\n## \\n\\nExplore as categorias\\n\\n[Image 9]  【48† Agronegócio 】 \\n\\n[Image 10]  【49† Autenticação e Prevenção à Fraude 】 \\n\\n[Image 11]  【50† Cadastro Positivo 】 \\n\\n[Image 12]  【51† Certificação Digital 】 \\n\\n[Image 13]  【52† Cobrança 】 \\n\\n[Image 14]  【53† Crédito 】 \\n\\n[Image 15]  【54† Decisão 】 \\n\\n[Image 16]  【29† Estudos e Pesquisas 】 \\n\\n[Image 17]  【55† Gestão de Carteira de Crédito 】 \\n\\n【56† Impulsiona 】 \\n\\n[Image 18]  【30† Indicadores Econômicos 】 \\n\\n[Image 19]  【57† Inovação e Tecnologia 】 \\n\\nNós podemos ajudar o seu negócio?\\n\\n## \\n\\nNós podemos ajudar o seu negócio?\\n\\nInforme seus dados e um de nossos especialistas entrará em contato com você.  \\nSe preferir, ligue para nós utilizando um dos telefones abaixo.\\n\\n[Image 20: Indicadores bureal] \\n\\n### Quero receber um contato\\n\\nVeja se o seu nome está correto \\n\\nNome completo \\n\\nVeja se o seu e-mail está correto \\n\\nE-mail \\n\\n  Análise de Crédito - consulta de CPF/CNPJ Cobrança e recuperação Consultoria ou plataformas Gestão de clientes ou fornecedores Marketing - gestão de dados e prospecção Prevenção a fraude Problema de atendimento Outros Selecione seu interesse \\n\\nSelecione uma opção \\n\\nDigite o número com o DDD \\n\\nCelular \\n\\nDigite o número, com 14 dígitos \\n\\nCNPJ \\n\\nQuero receber e-mails sobre novos materiais, promoções e informações sobre as soluções.\\n\\nVerifique o campo \\n\\nResponda: \\n\\nInsira o resultado da conta \\n\\nEnviando...Receber contato\\n\\nVerifique o campo \\n\\n×\\n\\nObrigada por entrar em contato com a gente.\\n\\nEm breve retornamos!\\n\\nOK\\n\\n×\\n\\nErro no envio do formulário!\\n\\nOK\\n\\n[Image 21: Ico Phone] \\n\\nSe preferir, ligue para o nosso Televendas:  \\nDisponível de segunda à sexta, das 9h às 18h.  \\n\\n3003-3704   \\nCapitais e regiões metropolitanas   \\n\\n0800-773-7728   \\nDemais localidades  \\n(apenas telefone fixo)\\n\\nSe preferir, ligue para o nosso Televendas:  \\nDisponível de segunda à sexta, das 9h às 18h.  \\n\\n3003-3704   \\nCapitais e regiões metropolitanas   \\n\\n0800-773-7728   \\nDemais localidades  \\n(apenas telefone fixo)\\n\\n【1† 】 \\n\\n  * 【58† †www.facebook.com】 \\n  * 【59† †www.instagram.com】 \\n  * 【60† †www.youtube.com】 \\n  * 【61† †www.linkedin.com】 \\n\\n【62† †www.serasa.com.br】 \\n\\n### Soluções\\n\\n###   Soluções \\n\\n  * 【5† Análise de mercado e segmentação de público 】 \\n  * 【6† Autenticação e Prevenção à Fraude 】 \\n  * 【'},\n",
       "  {'role': 'tool',\n",
       "   'message': [],\n",
       "   'text': '\\n[Image 2: Acesso Rápido]\\n\\nquick access\\n\\n  * 【71†Tax reform】\\n  * 【72†Sustainability and ESG】\\n  * 【73†Special Regime Guide for Public Purchases】\\n  * 【23†ABES Connect†conecta.abessoftware.com.br】\\n  * 【17†ABES Startup Internship Program】\\n  * 【25†Certificates】\\n  * 【28†Sustainability Diagnosis】\\n  * 【74†LGPD Diagnosis†diagnosticolgpd.abes.org.br】\\n  * 【75†LGPD Forum】\\n  * 【76†Promotion Guide†guia-fomento.abes.org.br】\\n  * 【49†Publications】\\n  * 【47†Mobilization to Reduce Inequality in Brazil】\\n  * 【50†HR TECH Platform】\\n  * 【12†Become an Associate】\\n  * 【15†Privacy Policy】\\n\\n[Image 3: ABES - Associação Brasileira das Empresas de Software]\\n\\n[Image 4: Twitter]\\xa0[Image 5: Facebook]\\xa0[Image 6: Instagram]\\xa0[Image 7: Linkedin]\\xa0[Image 8: YouTube]\\n\\n[Image 9: Localização] location  \\nAv. Ibirapuera 2,907 - 8th Floor - Cj. 811 - Moema   \\nCEP: 04029-200 - São Paulo - SP\\n\\n[Image 10: Central de Relacionamento] Get in touch with ABES  \\n+55 11 5094-3100   \\nMonday to Friday - 8:30 am to 6:00 pm\\n\\n【15†Privacy Policy】\\n\\nCopyright © 2024. All rights reserved to ABES - Brazilian Association of Software Companies\\n\\n EN \\n\\nEN 【77† PT 】 \\n\\n Report on Sustainability Actions \\n\\n## Sustainability Diagnosis\\n\\nCompanies, including information technology and software companies, have a role to play in society and can act in favor of preserving the environment, reducing inequality, valuing diversity and solving social problems.\\n\\nTo contribute even more to the improvement of companies\\' management in this direction, ABES developed this management performance analysis tool, from the perspective of sustainability and ESG concepts. Thus, helping companies to adapt to SDGs, especially numbers 8, 9 and 16.\\n\\n[Image 11]Make your Diagnosis now: 【28†https://abes.com.br/diagnostico-de-sustentabilidade/】\\n\\n[Image 12]\\n\\n【78†Click here or on the image to view in larger size.】\\n\\nX \\n\\n Report on Sustainability Actions \\n\\n## LGPD Diagnosis\\n\\nAs a way of assisting ABES members and the general public in verifying their level of adequacy to the requirements of the LGPD, ABES developed, together with EY, the LGPD Diagnosis.\\n\\nThe aim is to provide access to a self-assessment of compliance with the law, and through the result of the self-assessment and suggestions for adequacy, help create a business world where personal data is properly protected and respect for the rights of data subjects are taken into account in our work practices. Thus, our diagnosis helps to ensure peace, justice and effective institutions.\\n\\n[Image 13]Make your diagnosis now: 【74†https://diagnosticolgpd.abes.org.br/†diagnosticolgpd.abes.org.br】\\n\\n[Image 14: Diagnóstico de LGPD]\\n\\n【79†Click here or on the image to view in larger size.】\\n\\nX \\n\\n Report on Sustainability Actions \\n\\n## Innovation Promotion Guide\\n\\nThe purpose of the Guide is to keep cataloged, updated and easily accessible to members all information on options for fostering innovation and sources of funding, whether public or private. Thus, ABES fulfills its objective of helping to create a business environment that is more conducive to innovation.\\n\\nTherefore, our Development Guide is essential to support industry, innovation and infrastructure.\\n\\n[Image 15]Access the content: 【80†https://guia-fomento.abes.com.br/†guia-fomento.abes.com.br】\\n\\n[Image 16: Guia de Fomento]\\n\\n【81†Click here or on the image to view in larger size.】\\n\\nX \\n\\n Report on Sustainability Actions \\n\\n## Mobilization for Inequality Reduction\\n\\n“Mobilization to reduce inequality” is the name of the campaign launched by ABES, in partnership with ReUrbi and the Third Sector Observatory, with the support of the Weber Shandwick agency. It aims to support social inclusion projects that promote training in the digital area, through the resources obtained by recycling IT equipment (notebooks, PCs, racks, etc.) discarded by companies that adhere to the Program, which collects, recycling and reinserting equipment into the production chain.\\n\\nTherefore, the Mobilization meets 8 of the SDGs, including quality education, reduction of inequalities and responsible consumption and production.\\n\\n[Image 17]Join now: 【82†https://abes.com.br/mobilizacao-para-reducao-da-desigualdade-no-brasil/】\\n\\n[Image 18: Redução da Desigualdade]\\n\\n【83†Click here or on the image to view in larger size.】\\n\\nX \\n\\n Report on Sustainability Actions \\n\\n## Brazil Movement, Digital Country\\n\\nBrasil, País Digital is a movement led by the Brazilian Association of Software Companies (ABES) created in 2016, which has the support of various organizations in society. The objective of the movement is to work for the construction of a Nation Project that is more digital and less unequal, sharing information and promoting the debate on inclusive digital transformation.\\n\\nIn addition to promoting debates on inclusive and structuring public policies, the Movimento Brasil, País Digital has also been working hard to facilitate the Brazilian population’s access to basic concepts of digital transformation, the transformations that different sectors are going through, as well as the main risks and good practices for preventing cyber risks. Another relevant field of action has been to encourage the full exercise of citizenship in the Digital Age by sharing knowledge and promoting debates on the education of children and adolescents, positive leadership and responsible action in the networks, as well as digitization and access to public services through different channels. fingerprints.\\n\\nThe movement also pays tribute to those who make a difference in the country\\'s digital transformation, contributing to progress in building a more digital and less unequal country. Thus, the Ambassador or Ambassador of the Brazil, Country Digital Movement award was born. In 2021, we launched the Protagonists award, a new category for recognizing personalities who strive, but do not always receive due recognition for their actions on behalf of the country and the community.\\n\\nThis curatorial work positively impacts Brazil, helping to meet SDGs 9 and 11.\\n\\n[Image 19: Brasil, País Digital]\\n\\n【84†Click here or on the image to view in larger size.】\\n\\nX \\n\\n Report on Sustainability Actions \\n\\n## HR Tech Platform\\n\\nThe purpose of the platform is to support talent development through the dissemination of courses by our partners, update technology employability and promote discussions on career management, team development, talent retention, hybrid work model, among others. themes.\\n\\nThe platform is supporting the objectives of generating quality education and a decent job market with economic growth.\\n\\n[Image 20]Access now: 【50†https://abes.com.br/rhtech/】\\n\\n[Image 21]\\n\\n【85†Click here or on the image to view in larger size.】\\n\\nX \\n\\n Report on Sustainability Actions \\n\\n## ABES Integrity Program\\n\\nAs a relevant entity in the Information Technology sector, ABES once again anticipated the principles and requirements of the new Brazilian Anti-Corruption Legislation, Law 12.846/13, and updated its Code of Ethics and Conduct and established a Policy for Interaction with Public Agents. Based on these two important documents, ABES reformulated its internal routines, created the position of Compliance Officer and made available a Reporting Channel.\\n\\nThis Integrity Program must be respected by all Associates, Directors, Directors and other ABES Collaborators, who undergo annual training. Third-party service providers for ABES are also guided on the good practices required by the entity. Therefore, the program seeks to meet SDG 16, which talks about peace, justice and effective institutions.\\n\\n[Image 22]Know more: 【8†https://abes.com.br/abes/etica-e-integridade/】\\n\\n[Image 23]\\n\\n【86†Click here or on the image to view in larger size.】\\n\\nX \\n\\n Report on Sustainability Actions \\n\\n## An Ethical Company\\n\\nThis action aims to encourage its associates to formally adopt the highest ethical standards in dealing with their affairs, whether internal or external; improve the standard of behavior in dealing with customers, suppliers, competitors, employees and government agents; and create formal norms to implement them. Therefore, the program seeks to meet SDG 16, which talks about peace, justice and effective institutions.\\n\\n[Image 24]Know more: 【52†https://abes.com.br/servicos/uma-empresa-etica/】\\n\\n[Image 25: Uma Empresa Ética]\\n\\n【87†Click here or on the image to view in larger size.】\\n\\nX \\n\\n Terms and Conditions - Technological Education Hub \\n\\nThe Terms and Conditions described here are intended to inform the User of the conditions of use of the platform made available by ABES - Brazilian Association of Software Companies (ABES) registered with the CNPJ under number 57.004.897/0001-49, called \" Technology Education Hub” (“Platform”).\\n\\nThe Platform aims to be a hotsite for the dissemination of courses and training offered by ABES member companies and partners, in order to facilitate access to qualified training offers in the area of ICT (Information and Communication Technology), contributing to the training talents that can meet the growing demand for professionals in the sector'},\n",
       "  {'role': 'assistant',\n",
       "   'message': [\"It seems that the Carlos Nogueira you are looking for is involved in artificial intelligence and has contributed significantly to projects at Serasa Experian, a prominent data analytics and financial services company. His work is associated with Serasa Experian’s initiatives that leverage artificial intelligence to optimize data usage for various purposes, including customer insights, fraud detection, and enhanced business processes.\\n\\nSerasa Experian, with its DataLab in Brazil, has been working on advanced AI-driven solutions since 2015. The lab is one of their four global innovation centers and focuses on transforming customer data into actionable insights using machine learning, deep learning, and other AI methodologies. These solutions help clients, including small and medium-sized enterprises, to automate business processes, personalize customer experiences, and implement more effective fraud prevention strategies. Through this work, Serasa Experian aims to improve both operational efficiency and customer satisfaction by offering customized solutions tailored to clients' needs. Carlos Nogueira's involvement is likely linked to these types of projects, where AI technologies are used to drive data analysis and decision-making within the business environment (Serasa Experian DataLab)【15】【16】【17】.\\n\\nWould you like to dive deeper into any specific AI application or aspect of Carlos Nogueira's work with Serasa Experian?\"],\n",
       "   'text': ''}]}"
      ]
     },
     "execution_count": 13,
     "metadata": {},
     "output_type": "execute_result"
    }
   ],
   "source": [
    "conversation_example = conversation_fnames[0]\n",
    "with open(f'conversations/{conversation_example}', 'r') as f:\n",
    "    conversation = json.load(f)\n",
    "\n",
    "conversation"
   ]
  },
  {
   "cell_type": "code",
   "execution_count": 15,
   "metadata": {},
   "outputs": [
    {
     "data": {
      "text/plain": [
       "2"
      ]
     },
     "execution_count": 15,
     "metadata": {},
     "output_type": "execute_result"
    }
   ],
   "source": [
    "\"\"\"\n",
    "Count the number of backNforth in a conversation\n",
    "\"\"\"\n",
    "\n",
    "roles = ['user', 'assistant']\n",
    "backNforth = 0\n",
    "prev_role = 'user'\n",
    "for take in conversation['conversation']:\n",
    "    if take['role'] == 'user':\n",
    "        prev_role = 'user'\n",
    "    elif take['role'] == 'assistant' and prev_role == 'user':\n",
    "        prev_role = 'assistant'\n",
    "        backNforth += 1\n",
    "\n",
    "backNforth"
   ]
  },
  {
   "cell_type": "code",
   "execution_count": 16,
   "metadata": {},
   "outputs": [
    {
     "data": {
      "text/plain": [
       "['en']"
      ]
     },
     "execution_count": 16,
     "metadata": {},
     "output_type": "execute_result"
    }
   ],
   "source": [
    "# find the primary language of the max=5 queries\n",
    "\n",
    "queries = [take['message'] for take in conversation['conversation']if take['role']=='user']\n",
    "queries.pop(0)\n",
    "\n",
    "from langdetect import detect, detect_langs\n",
    "\n",
    "langset = set()\n",
    "for i in range(min(len(queries), 5)):\n",
    "    lang = detect(queries[i][0])\n",
    "    langset.add(lang)\n",
    "\n",
    "list(langset)"
   ]
  },
  {
   "cell_type": "code",
   "execution_count": 17,
   "metadata": {},
   "outputs": [
    {
     "data": {
      "text/plain": [
       "(166, 3299)"
      ]
     },
     "execution_count": 17,
     "metadata": {},
     "output_type": "execute_result"
    }
   ],
   "source": [
    "# count of characters\n",
    "#   this also includes code\n",
    "#   this includes markdown language... so it's not good\n",
    "\n",
    "user_messages = queries\n",
    "assistant_messages = [take['message'] for take in conversation['conversation']if take['role']=='assistant']\n",
    "\n",
    "charcount_user = sum([len(take[0]) for take in user_messages if len(take)!=0])\n",
    "charcount_assistant = sum([len(take[0]) for take in assistant_messages if len(take)!=0])\n",
    "\n",
    "charcount_user, charcount_assistant"
   ]
  },
  {
   "cell_type": "code",
   "execution_count": 31,
   "metadata": {},
   "outputs": [
    {
     "name": "stdout",
     "output_type": "stream",
     "text": [
      "{\n",
      "    \"Who is Carlos Nogueira?\": [\n",
      "        \"search(\\\"Carlos Nogueira\\\")\"\n",
      "    ],\n",
      "    \"This is not the Carlos Nogueira I'm looking for. He has been working in artificial intelligence, developing solutions for customers like Serasa\": [\n",
      "        \"search(\\\"Carlos Nogueira artificial intelligence Serasa\\\")\"\n",
      "    ]\n",
      "}\n"
     ]
    }
   ],
   "source": [
    "# TODO: match user queries with search() by assistant\n",
    "match_search = {}\n",
    "k = None\n",
    "for take in conversation['conversation']:\n",
    "    if take['role'] == 'user':\n",
    "        k = take.get('message', [''])\n",
    "        k = k[0]\n",
    "    if k and take['role'] != 'user':\n",
    "        message = take.get('message', [])\n",
    "        text = take.get('text', '')\n",
    "        if k not in match_search:\n",
    "            match_search[k] = []\n",
    "        if message:\n",
    "            match_search[k].append(message[0])\n",
    "        if text:\n",
    "            match_search[k].append(text)\n",
    "\n",
    "search_agg = {}\n",
    "for k, v in match_search.items():\n",
    "    search_agg[k] = []\n",
    "    for text in v:\n",
    "        if \"search(\" in text:\n",
    "            search_agg[k].append(text)\n",
    "\n",
    "print(json.dumps(search_agg, indent=4))"
   ]
  },
  {
   "cell_type": "markdown",
   "metadata": {},
   "source": [
    "total #conv 1800\n",
    "\n",
    "#conv w search() 180\n",
    "\n",
    "#search() 288"
   ]
  },
  {
   "cell_type": "code",
   "execution_count": 18,
   "metadata": {},
   "outputs": [
    {
     "name": "stdout",
     "output_type": "stream",
     "text": [
      "[]\n",
      "[]\n"
     ]
    }
   ],
   "source": [
    "# character count for code OR structured data\n",
    "\n",
    "assistant_messages = [take['message'] for take in conversation['conversation']if take['role']=='assistant']\n",
    "\n",
    "import re\n",
    "texts = []\n",
    "for take in assistant_messages:\n",
    "    texts += take\n",
    "\n",
    "for text in texts:\n",
    "    code_blocks = re.findall(r\"```(.*?)```\", text, re.DOTALL)\n",
    "    # Print extracted code blocks\n",
    "    print([{\n",
    "        'type': code_block.split('\\n')[0].strip(),\n",
    "        'length': len('\\n'.join(code_block.split('\\n')[1:]))\n",
    "    } for code_block in code_blocks])\n",
    "\n",
    "    # for code_block in code_blocks:\n",
    "    #     code_type = code_block.split('\\n')[0].strip()\n",
    "    #     code_length = len(code_block)\n",
    "    # for i, code in enumerate(code_blocks, 1):\n",
    "    #     print(f\"Code Block {i}:\\n{code}\\n\")\n",
    "    "
   ]
  },
  {
   "cell_type": "code",
   "execution_count": 9,
   "metadata": {},
   "outputs": [
    {
     "ename": "KeyError",
     "evalue": "'url'",
     "output_type": "error",
     "traceback": [
      "\u001b[0;31m---------------------------------------------------------------------------\u001b[0m",
      "\u001b[0;31mKeyError\u001b[0m                                  Traceback (most recent call last)",
      "Cell \u001b[0;32mIn[9], line 11\u001b[0m\n\u001b[1;32m      8\u001b[0m \u001b[38;5;28;01mwith\u001b[39;00m \u001b[38;5;28mopen\u001b[39m(\u001b[38;5;124mf\u001b[39m\u001b[38;5;124m'\u001b[39m\u001b[38;5;124mconversations/\u001b[39m\u001b[38;5;132;01m{\u001b[39;00mconversation_example\u001b[38;5;132;01m}\u001b[39;00m\u001b[38;5;124m'\u001b[39m, \u001b[38;5;124m'\u001b[39m\u001b[38;5;124mr\u001b[39m\u001b[38;5;124m'\u001b[39m) \u001b[38;5;28;01mas\u001b[39;00m f:\n\u001b[1;32m      9\u001b[0m     conversation \u001b[38;5;241m=\u001b[39m json\u001b[38;5;241m.\u001b[39mload(f)\n\u001b[0;32m---> 11\u001b[0m \u001b[38;5;28mprint\u001b[39m(conversation[\u001b[38;5;124m'\u001b[39m\u001b[38;5;124murl\u001b[39m\u001b[38;5;124m'\u001b[39m])\n\u001b[1;32m     12\u001b[0m tool_messages \u001b[38;5;241m=\u001b[39m [take[\u001b[38;5;124m'\u001b[39m\u001b[38;5;124mmessage\u001b[39m\u001b[38;5;124m'\u001b[39m] \u001b[38;5;28;01mfor\u001b[39;00m take \u001b[38;5;129;01min\u001b[39;00m conversation[\u001b[38;5;124m'\u001b[39m\u001b[38;5;124mconversation\u001b[39m\u001b[38;5;124m'\u001b[39m]\u001b[38;5;28;01mif\u001b[39;00m take[\u001b[38;5;124m'\u001b[39m\u001b[38;5;124mrole\u001b[39m\u001b[38;5;124m'\u001b[39m]\u001b[38;5;241m==\u001b[39m\u001b[38;5;124m'\u001b[39m\u001b[38;5;124mtool\u001b[39m\u001b[38;5;124m'\u001b[39m]\n\u001b[1;32m     13\u001b[0m \u001b[38;5;28mprint\u001b[39m(tool_messages)\n",
      "\u001b[0;31mKeyError\u001b[0m: 'url'"
     ]
    }
   ],
   "source": [
    "# Tools... not finished yet... are we interested in this? \n",
    "#   we would have no access to the files anyways, and we can ask gpt to generate this...\n",
    "#   all previous measurements focus on counting, which GPT is not super good at, especially at counting workds\n",
    "\n",
    "# for i in range(10):\n",
    "i=3\n",
    "conversation_example = conversation_fnames[i]\n",
    "with open(f'conversations/{conversation_example}', 'r') as f:\n",
    "    conversation = json.load(f)\n",
    "\n",
    "print(conversation['url'])\n",
    "tool_messages = [take['message'] for take in conversation['conversation']if take['role']=='tool']\n",
    "print(tool_messages)\n",
    "conversation['conversation']"
   ]
  }
 ],
 "metadata": {
  "kernelspec": {
   "display_name": "base",
   "language": "python",
   "name": "python3"
  },
  "language_info": {
   "codemirror_mode": {
    "name": "ipython",
    "version": 3
   },
   "file_extension": ".py",
   "mimetype": "text/x-python",
   "name": "python",
   "nbconvert_exporter": "python",
   "pygments_lexer": "ipython3",
   "version": "3.12.4"
  }
 },
 "nbformat": 4,
 "nbformat_minor": 2
}
